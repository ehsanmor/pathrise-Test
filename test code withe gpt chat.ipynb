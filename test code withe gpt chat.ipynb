{
 "cells": [
  {
   "cell_type": "markdown",
   "id": "ada326ae",
   "metadata": {},
   "source": [
    "### here's a complete code for a data science project with 4 machine learning models to predict the job placement and time to placement for fellows in Pathrise program."
   ]
  },
  {
   "cell_type": "code",
   "execution_count": 1,
   "id": "b114c8b9",
   "metadata": {},
   "outputs": [],
   "source": [
    "# Step 1: Import Libraries and Load Data"
   ]
  },
  {
   "cell_type": "code",
   "execution_count": 2,
   "id": "f1ea7557",
   "metadata": {},
   "outputs": [
    {
     "name": "stderr",
     "output_type": "stream",
     "text": [
      "C:\\Users\\emoradi\\Anaconda3\\lib\\site-packages\\scipy\\__init__.py:146: UserWarning: A NumPy version >=1.16.5 and <1.23.0 is required for this version of SciPy (detected version 1.24.2\n",
      "  warnings.warn(f\"A NumPy version >={np_minversion} and <{np_maxversion}\"\n"
     ]
    },
    {
     "data": {
      "text/html": [
       "<div>\n",
       "<style scoped>\n",
       "    .dataframe tbody tr th:only-of-type {\n",
       "        vertical-align: middle;\n",
       "    }\n",
       "\n",
       "    .dataframe tbody tr th {\n",
       "        vertical-align: top;\n",
       "    }\n",
       "\n",
       "    .dataframe thead th {\n",
       "        text-align: right;\n",
       "    }\n",
       "</style>\n",
       "<table border=\"1\" class=\"dataframe\">\n",
       "  <thead>\n",
       "    <tr style=\"text-align: right;\">\n",
       "      <th></th>\n",
       "      <th>id</th>\n",
       "      <th>pathrise_status</th>\n",
       "      <th>primary_track</th>\n",
       "      <th>cohort_tag</th>\n",
       "      <th>program_duration_days</th>\n",
       "      <th>placed</th>\n",
       "      <th>employment_status</th>\n",
       "      <th>highest_level_of_education</th>\n",
       "      <th>length_of_job_search</th>\n",
       "      <th>biggest_challenge_in_search</th>\n",
       "      <th>professional_experience</th>\n",
       "      <th>work_authorization_status</th>\n",
       "      <th>number_of_interviews</th>\n",
       "      <th>number_of_applications</th>\n",
       "      <th>gender</th>\n",
       "      <th>race</th>\n",
       "    </tr>\n",
       "  </thead>\n",
       "  <tbody>\n",
       "    <tr>\n",
       "      <th>0</th>\n",
       "      <td>1.0</td>\n",
       "      <td>Active</td>\n",
       "      <td>SWE</td>\n",
       "      <td>OCT19A</td>\n",
       "      <td>NaN</td>\n",
       "      <td>0.0</td>\n",
       "      <td>Unemployed</td>\n",
       "      <td>Bachelor's Degree</td>\n",
       "      <td>3-5 months</td>\n",
       "      <td>Hearing back on my applications</td>\n",
       "      <td>3-4 years</td>\n",
       "      <td>Canada Citizen</td>\n",
       "      <td>2.0</td>\n",
       "      <td>900.0</td>\n",
       "      <td>Male</td>\n",
       "      <td>Non-Hispanic White or Euro-American</td>\n",
       "    </tr>\n",
       "    <tr>\n",
       "      <th>1</th>\n",
       "      <td>2.0</td>\n",
       "      <td>Active</td>\n",
       "      <td>PSO</td>\n",
       "      <td>JAN20A</td>\n",
       "      <td>NaN</td>\n",
       "      <td>0.0</td>\n",
       "      <td>Unemployed</td>\n",
       "      <td>Some College, No Degree</td>\n",
       "      <td>3-5 months</td>\n",
       "      <td>Getting past final round interviews</td>\n",
       "      <td>1-2 years</td>\n",
       "      <td>Citizen</td>\n",
       "      <td>6.0</td>\n",
       "      <td>0.0</td>\n",
       "      <td>Male</td>\n",
       "      <td>Non-Hispanic White or Euro-American</td>\n",
       "    </tr>\n",
       "    <tr>\n",
       "      <th>2</th>\n",
       "      <td>3.0</td>\n",
       "      <td>Closed Lost</td>\n",
       "      <td>Design</td>\n",
       "      <td>AUG19B</td>\n",
       "      <td>0.0</td>\n",
       "      <td>0.0</td>\n",
       "      <td>Employed Part-Time</td>\n",
       "      <td>Master's Degree</td>\n",
       "      <td>Less than one month</td>\n",
       "      <td>Figuring out which jobs to apply for</td>\n",
       "      <td>Less than one year</td>\n",
       "      <td>Citizen</td>\n",
       "      <td>0.0</td>\n",
       "      <td>0.0</td>\n",
       "      <td>Male</td>\n",
       "      <td>East Asian or Asian American</td>\n",
       "    </tr>\n",
       "    <tr>\n",
       "      <th>3</th>\n",
       "      <td>4.0</td>\n",
       "      <td>Closed Lost</td>\n",
       "      <td>PSO</td>\n",
       "      <td>AUG19B</td>\n",
       "      <td>0.0</td>\n",
       "      <td>0.0</td>\n",
       "      <td>Contractor</td>\n",
       "      <td>Bachelor's Degree</td>\n",
       "      <td>Less than one month</td>\n",
       "      <td>Getting past final round interviews</td>\n",
       "      <td>Less than one year</td>\n",
       "      <td>Citizen</td>\n",
       "      <td>5.0</td>\n",
       "      <td>25.0</td>\n",
       "      <td>Male</td>\n",
       "      <td>Decline to Self Identify</td>\n",
       "    </tr>\n",
       "    <tr>\n",
       "      <th>4</th>\n",
       "      <td>5.0</td>\n",
       "      <td>Placed</td>\n",
       "      <td>SWE</td>\n",
       "      <td>AUG19A</td>\n",
       "      <td>89.0</td>\n",
       "      <td>1.0</td>\n",
       "      <td>Unemployed</td>\n",
       "      <td>Bachelor's Degree</td>\n",
       "      <td>1-2 months</td>\n",
       "      <td>Hearing back on my applications</td>\n",
       "      <td>1-2 years</td>\n",
       "      <td>F1 Visa/OPT</td>\n",
       "      <td>10.0</td>\n",
       "      <td>100.0</td>\n",
       "      <td>Male</td>\n",
       "      <td>East Asian or Asian American</td>\n",
       "    </tr>\n",
       "  </tbody>\n",
       "</table>\n",
       "</div>"
      ],
      "text/plain": [
       "    id pathrise_status primary_track cohort_tag  program_duration_days  \\\n",
       "0  1.0          Active           SWE     OCT19A                    NaN   \n",
       "1  2.0          Active           PSO     JAN20A                    NaN   \n",
       "2  3.0     Closed Lost        Design     AUG19B                    0.0   \n",
       "3  4.0     Closed Lost           PSO     AUG19B                    0.0   \n",
       "4  5.0          Placed           SWE     AUG19A                   89.0   \n",
       "\n",
       "   placed  employment_status  highest_level_of_education length_of_job_search  \\\n",
       "0     0.0          Unemployed          Bachelor's Degree           3-5 months   \n",
       "1     0.0          Unemployed    Some College, No Degree           3-5 months   \n",
       "2     0.0  Employed Part-Time            Master's Degree  Less than one month   \n",
       "3     0.0          Contractor          Bachelor's Degree  Less than one month   \n",
       "4     1.0          Unemployed          Bachelor's Degree           1-2 months   \n",
       "\n",
       "            biggest_challenge_in_search professional_experience  \\\n",
       "0       Hearing back on my applications               3-4 years   \n",
       "1   Getting past final round interviews               1-2 years   \n",
       "2  Figuring out which jobs to apply for      Less than one year   \n",
       "3   Getting past final round interviews      Less than one year   \n",
       "4       Hearing back on my applications               1-2 years   \n",
       "\n",
       "  work_authorization_status  number_of_interviews  number_of_applications  \\\n",
       "0            Canada Citizen                   2.0                   900.0   \n",
       "1                   Citizen                   6.0                     0.0   \n",
       "2                   Citizen                   0.0                     0.0   \n",
       "3                   Citizen                   5.0                    25.0   \n",
       "4               F1 Visa/OPT                  10.0                   100.0   \n",
       "\n",
       "  gender                                 race  \n",
       "0   Male  Non-Hispanic White or Euro-American  \n",
       "1   Male  Non-Hispanic White or Euro-American  \n",
       "2   Male         East Asian or Asian American  \n",
       "3   Male             Decline to Self Identify  \n",
       "4   Male         East Asian or Asian American  "
      ]
     },
     "execution_count": 2,
     "metadata": {},
     "output_type": "execute_result"
    }
   ],
   "source": [
    "# Import libraries\n",
    "import pandas as pd\n",
    "#import numpy as np\n",
    "import seaborn as sns\n",
    "import matplotlib.pyplot as plt\n",
    "from sklearn.model_selection import train_test_split\n",
    "from sklearn.preprocessing import LabelEncoder, StandardScaler\n",
    "from sklearn.linear_model import LogisticRegression\n",
    "from sklearn.tree import DecisionTreeClassifier\n",
    "from sklearn.ensemble import RandomForestClassifier\n",
    "#from XGBoost import XGBClassifier\n",
    "\n",
    "from sklearn.metrics import accuracy_score, confusion_matrix, classification_report\n",
    "\n",
    "# Load data\n",
    "df = pd.read_excel(\"Data_Pathrise.xlsx\")\n",
    "df.head()\n"
   ]
  },
  {
   "cell_type": "code",
   "execution_count": 3,
   "id": "cf2c839e",
   "metadata": {},
   "outputs": [
    {
     "name": "stdout",
     "output_type": "stream",
     "text": [
      "<class 'pandas.core.frame.DataFrame'>\n",
      "RangeIndex: 2544 entries, 0 to 2543\n",
      "Data columns (total 16 columns):\n",
      " #   Column                       Non-Null Count  Dtype  \n",
      "---  ------                       --------------  -----  \n",
      " 0   id                           2544 non-null   float64\n",
      " 1   pathrise_status              2544 non-null   object \n",
      " 2   primary_track                2544 non-null   object \n",
      " 3   cohort_tag                   2536 non-null   object \n",
      " 4   program_duration_days        1928 non-null   float64\n",
      " 5   placed                       2544 non-null   float64\n",
      " 6   employment_status            2315 non-null   object \n",
      " 7   highest_level_of_education   2486 non-null   object \n",
      " 8   length_of_job_search         2470 non-null   object \n",
      " 9   biggest_challenge_in_search  2520 non-null   object \n",
      " 10  professional_experience      2322 non-null   object \n",
      " 11  work_authorization_status    2260 non-null   object \n",
      " 12  number_of_interviews         2326 non-null   float64\n",
      " 13  number_of_applications       2544 non-null   float64\n",
      " 14  gender                       2052 non-null   object \n",
      " 15  race                         2526 non-null   object \n",
      "dtypes: float64(5), object(11)\n",
      "memory usage: 318.1+ KB\n"
     ]
    }
   ],
   "source": [
    "df.info()"
   ]
  },
  {
   "cell_type": "code",
   "execution_count": 4,
   "id": "5f528365",
   "metadata": {},
   "outputs": [
    {
     "name": "stdout",
     "output_type": "stream",
     "text": [
      "Index(['id', 'pathrise_status', 'primary_track', 'cohort_tag',\n",
      "       'program_duration_days', 'placed', 'employment_status ',\n",
      "       'highest_level_of_education', 'length_of_job_search',\n",
      "       'biggest_challenge_in_search', 'professional_experience',\n",
      "       'work_authorization_status', 'number_of_interviews',\n",
      "       'number_of_applications', 'gender', 'race'],\n",
      "      dtype='object')\n"
     ]
    }
   ],
   "source": [
    "print(df.columns)\n"
   ]
  },
  {
   "cell_type": "code",
   "execution_count": 5,
   "id": "39a1cfdc",
   "metadata": {},
   "outputs": [],
   "source": [
    "# Step 2: Data Cleaning and Preparation"
   ]
  },
  {
   "cell_type": "code",
   "execution_count": 6,
   "id": "79483f3d",
   "metadata": {},
   "outputs": [],
   "source": [
    "# Drop irrelevant columns if they exist\n",
    "drop_columns = ['id', 'program_duration_days', 'work_authorization_status', 'pathrise_status', 'cohort_tag']\n",
    "df = df.drop(columns=[col for col in drop_columns if col in df.columns], axis=1)\n",
    "\n",
    "\n",
    "# Drop rows with missing values\n",
    "df = df.dropna()\n",
    "\n",
    "# Convert categorical variables to numerical\n",
    "le = LabelEncoder()\n",
    "df['primary_track'] = le.fit_transform(df['primary_track'])\n",
    "df['employment_status '] = le.fit_transform(df['employment_status '])\n",
    "df['highest_level_of_education'] = le.fit_transform(df['highest_level_of_education'])\n",
    "df['length_of_job_search'] = le.fit_transform(df['length_of_job_search'])\n",
    "df['biggest_challenge_in_search'] = le.fit_transform(df['biggest_challenge_in_search'])\n",
    "df['professional_experience'] = le.fit_transform(df['professional_experience'])\n",
    "df['gender'] = le.fit_transform(df['gender'])\n",
    "df['race'] = le.fit_transform(df['race'])\n",
    "\n",
    "# Split data into features and target\n",
    "X = df.drop('placed', axis=1)\n",
    "y = df['placed']\n",
    "\n",
    "# Scale features\n",
    "scaler = StandardScaler()\n",
    "X = scaler.fit_transform(X)\n",
    "\n",
    "# Split data into train and test sets\n",
    "X_train, X_test, y_train, y_test = train_test_split(X, y, test_size=0.2, random_state=42)\n"
   ]
  },
  {
   "cell_type": "code",
   "execution_count": 7,
   "id": "dad33cff",
   "metadata": {},
   "outputs": [],
   "source": [
    "# Step 3: Model Building and Evaluation"
   ]
  },
  {
   "cell_type": "code",
   "execution_count": 8,
   "id": "fc09b5cf",
   "metadata": {},
   "outputs": [
    {
     "name": "stdout",
     "output_type": "stream",
     "text": [
      "Logistic Regression Accuracy: 0.5912162162162162\n",
      "Logistic Regression Confusion Matrix:\n",
      " [[169  10]\n",
      " [111   6]]\n",
      "Logistic Regression Classification Report:\n",
      "               precision    recall  f1-score   support\n",
      "\n",
      "         0.0       0.60      0.94      0.74       179\n",
      "         1.0       0.38      0.05      0.09       117\n",
      "\n",
      "    accuracy                           0.59       296\n",
      "   macro avg       0.49      0.50      0.41       296\n",
      "weighted avg       0.51      0.59      0.48       296\n",
      "\n",
      "Decision Tree Accuracy: 0.527027027027027\n",
      "Decision Tree Confusion Matrix:\n",
      " [[114  65]\n",
      " [ 75  42]]\n",
      "Decision Tree Classification Report:\n",
      "               precision    recall  f1-score   support\n",
      "\n",
      "         0.0       0.60      0.64      0.62       179\n",
      "         1.0       0.39      0.36      0.38       117\n",
      "\n",
      "    accuracy                           0.53       296\n",
      "   macro avg       0.50      0.50      0.50       296\n",
      "weighted avg       0.52      0.53      0.52       296\n",
      "\n",
      "Random Forest Accuracy: 0.5709459459459459\n",
      "Random Forest Confusion Matrix:\n",
      " [[138  41]\n",
      " [ 86  31]]\n",
      "Random Forest Classification Report:\n",
      "               precision    recall  f1-score   support\n",
      "\n",
      "         0.0       0.62      0.77      0.68       179\n",
      "         1.0       0.43      0.26      0.33       117\n",
      "\n",
      "    accuracy                           0.57       296\n",
      "   macro avg       0.52      0.52      0.51       296\n",
      "weighted avg       0.54      0.57      0.54       296\n",
      "\n"
     ]
    }
   ],
   "source": [
    "# Train and evaluate logistic regression model\n",
    "lr = LogisticRegression()\n",
    "lr.fit(X_train, y_train)\n",
    "lr_preds = lr.predict(X_test)\n",
    "lr_acc = accuracy_score(y_test, lr_preds)\n",
    "print('Logistic Regression Accuracy:', lr_acc)\n",
    "print('Logistic Regression Confusion Matrix:\\n', confusion_matrix(y_test, lr_preds))\n",
    "print('Logistic Regression Classification Report:\\n', classification_report(y_test, lr_preds))\n",
    "\n",
    "# Train and evaluate decision tree model\n",
    "dt = DecisionTreeClassifier()\n",
    "dt.fit(X_train, y_train)\n",
    "dt_preds = dt.predict(X_test)\n",
    "dt_acc = accuracy_score(y_test, dt_preds)\n",
    "print('Decision Tree Accuracy:', dt_acc)\n",
    "print('Decision Tree Confusion Matrix:\\n', confusion_matrix(y_test, dt_preds))\n",
    "print('Decision Tree Classification Report:\\n', classification_report(y_test, dt_preds))\n",
    "\n",
    "# Train and evaluate random forest model\n",
    "rf = RandomForestClassifier()\n",
    "rf.fit(X_train, y_train)\n",
    "rf_preds = rf.predict(X_test)\n",
    "rf_acc = accuracy_score(y_test, rf_preds)\n",
    "print('Random Forest Accuracy:', rf_acc)\n",
    "print('Random Forest Confusion Matrix:\\n', confusion_matrix(y_test, rf_preds))\n",
    "print('Random Forest Classification Report:\\n', classification_report(y_test, rf_preds))\n"
   ]
  },
  {
   "cell_type": "code",
   "execution_count": 9,
   "id": "3232dc5c",
   "metadata": {},
   "outputs": [],
   "source": [
    "# Step 4: Model Comparison and Selection"
   ]
  },
  {
   "cell_type": "code",
   "execution_count": 10,
   "id": "aa3576db",
   "metadata": {},
   "outputs": [
    {
     "data": {
      "image/png": "[encoded data removed]",
      "text/plain": [
       "<Figure size 432x288 with 1 Axes>"
      ]
     },
     "metadata": {
      "needs_background": "light"
     },
     "output_type": "display_data"
    },
    {
     "name": "stdout",
     "output_type": "stream",
     "text": [
      "Logistic Regression is the best model with an accuracy of 0.5912162162162162\n"
     ]
    }
   ],
   "source": [
    "# Compare model accuracies\n",
    "model_accs = pd.DataFrame({'Model': ['Logistic Regression', 'Decision Tree', 'Random Forest'],\n",
    "                           'Accuracy': [lr_acc, dt_acc, rf_acc,]})\n",
    "sns.barplot(x='Model', y='Accuracy', data=model_accs)\n",
    "plt.title('Model Comparison')\n",
    "plt.ylim([0,1])\n",
    "plt.show()\n",
    "\n",
    "# Select best model\n",
    "best_model = max(lr_acc, dt_acc, rf_acc)\n",
    "if best_model == lr_acc:\n",
    "    print('Logistic Regression is the best model with an accuracy of', lr_acc)\n",
    "    final_model = lr\n",
    "elif best_model == dt_acc:\n",
    "    print('Decision Tree is the best model with an accuracy of', dt_acc)\n",
    "    final_model = dt\n",
    "else:\n",
    "    print('Random Forest is the best model with an accuracy of', rf_acc)\n",
    "    final_model = rf\n"
   ]
  },
  {
   "cell_type": "code",
   "execution_count": 11,
   "id": "753b5a36",
   "metadata": {},
   "outputs": [],
   "source": [
    "df.to_csv('pathrisedata.csv', index=False)"
   ]
  },
  {
   "cell_type": "code",
   "execution_count": 12,
   "id": "a65668f1",
   "metadata": {},
   "outputs": [],
   "source": [
    "\n",
    "# Load the data\n",
    "dff = pd.read_csv('pathrisedata.csv')\n",
    "\n",
    "# Drop the target variable 'placed'\n",
    "X = dff.drop('placed', axis=1)\n",
    "\n",
    "# Convert categorical variables to numerical\n",
    "le = LabelEncoder()\n",
    "X['primary_track'] = le.fit_transform(X['primary_track'])\n",
    "X['employment_status '] = le.fit_transform(X['employment_status '])\n",
    "X['highest_level_of_education'] = le.fit_transform(X['highest_level_of_education'])\n",
    "X['length_of_job_search'] = le.fit_transform(X['length_of_job_search'])\n",
    "X['biggest_challenge_in_search'] = le.fit_transform(X['biggest_challenge_in_search'])\n",
    "X['professional_experience'] = le.fit_transform(X['professional_experience'])\n",
    "X['gender'] = le.fit_transform(X['gender'])\n",
    "X['race'] = le.fit_transform(X['race'])\n",
    "\n",
    "# Scale features\n",
    "scaler = StandardScaler()\n",
    "X = scaler.fit_transform(X)\n",
    "\n",
    "# Make predictions\n",
    "new_preds = final_model.predict(X)\n",
    "\n",
    "# Save predictions to file\n",
    "pd.DataFrame({'Placement Predictions': new_preds}).to_csv('placement_predictions.csv', index=False)\n"
   ]
  },
  {
   "cell_type": "code",
   "execution_count": 13,
   "id": "ad283b19",
   "metadata": {},
   "outputs": [],
   "source": [
    "df1 = pd.read_csv('placement_predictions.csv')"
   ]
  },
  {
   "cell_type": "code",
   "execution_count": 16,
   "id": "c8c4aea1",
   "metadata": {},
   "outputs": [
    {
     "data": {
      "text/html": [
       "<div>\n",
       "<style scoped>\n",
       "    .dataframe tbody tr th:only-of-type {\n",
       "        vertical-align: middle;\n",
       "    }\n",
       "\n",
       "    .dataframe tbody tr th {\n",
       "        vertical-align: top;\n",
       "    }\n",
       "\n",
       "    .dataframe thead th {\n",
       "        text-align: right;\n",
       "    }\n",
       "</style>\n",
       "<table border=\"1\" class=\"dataframe\">\n",
       "  <thead>\n",
       "    <tr style=\"text-align: right;\">\n",
       "      <th></th>\n",
       "      <th>Placement Predictions</th>\n",
       "    </tr>\n",
       "  </thead>\n",
       "  <tbody>\n",
       "    <tr>\n",
       "      <th>count</th>\n",
       "      <td>1477.000000</td>\n",
       "    </tr>\n",
       "    <tr>\n",
       "      <th>mean</th>\n",
       "      <td>0.054164</td>\n",
       "    </tr>\n",
       "    <tr>\n",
       "      <th>std</th>\n",
       "      <td>0.226417</td>\n",
       "    </tr>\n",
       "    <tr>\n",
       "      <th>min</th>\n",
       "      <td>0.000000</td>\n",
       "    </tr>\n",
       "    <tr>\n",
       "      <th>25%</th>\n",
       "      <td>0.000000</td>\n",
       "    </tr>\n",
       "    <tr>\n",
       "      <th>50%</th>\n",
       "      <td>0.000000</td>\n",
       "    </tr>\n",
       "    <tr>\n",
       "      <th>75%</th>\n",
       "      <td>0.000000</td>\n",
       "    </tr>\n",
       "    <tr>\n",
       "      <th>max</th>\n",
       "      <td>1.000000</td>\n",
       "    </tr>\n",
       "  </tbody>\n",
       "</table>\n",
       "</div>"
      ],
      "text/plain": [
       "       Placement Predictions\n",
       "count            1477.000000\n",
       "mean                0.054164\n",
       "std                 0.226417\n",
       "min                 0.000000\n",
       "25%                 0.000000\n",
       "50%                 0.000000\n",
       "75%                 0.000000\n",
       "max                 1.000000"
      ]
     },
     "execution_count": 16,
     "metadata": {},
     "output_type": "execute_result"
    }
   ],
   "source": [
    "df1.describe()"
   ]
  },
  {
   "cell_type": "markdown",
   "id": "ac14710f",
   "metadata": {},
   "source": [
    "# This code reads in the Pathrise program data, cleans and prepares it for modeling, builds 4 different machine learning models (Logistic Regression, Decision Tree, Random Forest, and XGBoost), evaluates their accuracy, selects the best model, and deploys it to make predictions on new data. The final model can be used to predict if a Pathrise fellow will ultimately be placed at a company and how long until a placement can be expected."
   ]
  },
  {
   "cell_type": "code",
   "execution_count": null,
   "id": "260b37c9",
   "metadata": {},
   "outputs": [],
   "source": [
    "# what is the next step"
   ]
  },
  {
   "cell_type": "markdown",
   "id": "60f3b36c",
   "metadata": {},
   "source": [
    "The next step would be to further analyze the results and draw insights from the predictions made by the final model. This could involve looking at the factors that are most predictive of job placement and time to placement, as well as identifying any patterns or trends in the data that could be useful for the Pathrise program. Additionally, it may be helpful to evaluate the model's performance over time and continue to refine it based on new data and feedback"
   ]
  }
 ],
 "metadata": {
  "kernelspec": {
   "display_name": "Python 3 (ipykernel)",
   "language": "python",
   "name": "python3"
  },
  "language_info": {
   "codemirror_mode": {
    "name": "ipython",
    "version": 3
   },
   "file_extension": ".py",
   "mimetype": "text/x-python",
   "name": "python",
   "nbconvert_exporter": "python",
   "pygments_lexer": "ipython3",
   "version": "3.9.7"
  }
 },
 "nbformat": 4,
 "nbformat_minor": 5
}
